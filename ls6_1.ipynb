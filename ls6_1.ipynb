{
 "cells": [
  {
   "cell_type": "code",
   "execution_count": 1,
   "metadata": {},
   "outputs": [],
   "source": [
    "from sklearn import datasets"
   ]
  },
  {
   "cell_type": "code",
   "execution_count": 2,
   "metadata": {},
   "outputs": [
    {
     "name": "stdout",
     "output_type": "stream",
     "text": [
      "so chieu du lieu input:  (442, 10)\n",
      "kieu du lieu input:  <class 'numpy.ndarray'>\n",
      "so chieu du lieu target:  (442,)\n",
      "kieu du lieu target:  <class 'numpy.ndarray'>\n",
      "\n",
      "5 mau du lieu dau tien:\n",
      "input:  [[ 0.03807591  0.05068012  0.06169621  0.02187239 -0.0442235  -0.03482076\n",
      "  -0.04340085 -0.00259226  0.01990749 -0.01764613]\n",
      " [-0.00188202 -0.04464164 -0.05147406 -0.02632753 -0.00844872 -0.01916334\n",
      "   0.07441156 -0.03949338 -0.06833155 -0.09220405]\n",
      " [ 0.08529891  0.05068012  0.04445121 -0.00567042 -0.04559945 -0.03419447\n",
      "  -0.03235593 -0.00259226  0.00286131 -0.02593034]\n",
      " [-0.08906294 -0.04464164 -0.01159501 -0.03665608  0.01219057  0.02499059\n",
      "  -0.03603757  0.03430886  0.02268774 -0.00936191]\n",
      " [ 0.00538306 -0.04464164 -0.03638469  0.02187239  0.00393485  0.01559614\n",
      "   0.00814208 -0.00259226 -0.03198764 -0.04664087]]\n",
      "target:  [151.  75. 141. 206. 135.]\n"
     ]
    }
   ],
   "source": [
    "diabetes = datasets.load_diabetes()\n",
    "\n",
    "print(\"so chieu du lieu input: \", diabetes.data.shape)\n",
    "print(\"kieu du lieu input: \", type(diabetes.data))\n",
    "print(\"so chieu du lieu target: \", diabetes.target.shape)\n",
    "print(\"kieu du lieu target: \", type(diabetes.target))\n",
    "print()\n",
    "\n",
    "print(\"5 mau du lieu dau tien:\")\n",
    "print(\"input: \", diabetes.data[:5])\n",
    "print(\"target: \", diabetes.target[:5])"
   ]
  },
  {
   "cell_type": "code",
   "execution_count": 3,
   "metadata": {},
   "outputs": [],
   "source": [
    "x= diabetes.data\n",
    "y= diabetes.target"
   ]
  },
  {
   "cell_type": "code",
   "execution_count": 4,
   "metadata": {},
   "outputs": [
    {
     "name": "stdout",
     "output_type": "stream",
     "text": [
      "(397, 10)\n",
      "(45, 10)\n",
      "(397,)\n",
      "(45,)\n"
     ]
    }
   ],
   "source": [
    "from sklearn.model_selection import train_test_split\n",
    "\n",
    "x_train, x_test,  y_train,  y_test = train_test_split(x, y, test_size= 0.1) \n",
    "\n",
    "print(x_train.shape)\n",
    "print(x_test.shape)\n",
    "print(y_train.shape)\n",
    "print(y_test.shape)"
   ]
  },
  {
   "cell_type": "code",
   "execution_count": 6,
   "metadata": {},
   "outputs": [
    {
     "name": "stdout",
     "output_type": "stream",
     "text": [
      "(259, 10)\n",
      "(58, 10)\n",
      "(259,)\n",
      "(58,)\n"
     ]
    }
   ],
   "source": [
    "x_train, x_val, y_train, y_val = train_test_split(x_train, y_train, test_size= 0.18)\n",
    "\n",
    "print(x_train.shape)\n",
    "print(x_val.shape)\n",
    "print(y_train.shape)\n",
    "print(y_val.shape)"
   ]
  },
  {
   "cell_type": "code",
   "execution_count": 7,
   "metadata": {},
   "outputs": [
    {
     "name": "stdout",
     "output_type": "stream",
     "text": [
      "Lambda = 0; RMSE = 57.05474620504462\n",
      "Lambda = 0.0001; RMSE = 57.0554148339598\n",
      "Lambda = 0.01; RMSE = 57.05439308793401\n",
      "Lambda = 0.05; RMSE = 56.85911989172623\n",
      "Lambda = 0.1; RMSE = 56.7230107130903\n",
      "Lambda = 0.5; RMSE = 57.70211939610399\n",
      "Lambda = 1; RMSE = 59.84361872921165\n",
      "Lambda = 5; RMSE = 69.1263212695074\n",
      "Lambda = 10; RMSE = 72.78676190096719\n",
      "Lambda = 20; RMSE = 75.28730473985031\n"
     ]
    }
   ],
   "source": [
    "import math \n",
    "from sklearn import linear_model\n",
    "from sklearn.metrics import mean_squared_error\n",
    "\n",
    "_lambda = [0, 0.0001, 0.01, 0.05, 0.1, 0.5, 1, 5, 10, 20]\n",
    "\n",
    "for a_lambda in _lambda:\n",
    "    regression_regr =  linear_model.Ridge(alpha= a_lambda)\n",
    "    regression_regr.fit(x_train, y_train)\n",
    "    y_pred = regression_regr.predict(x_val)\n",
    "    print('Lambda = ' +str(a_lambda) + '; RMSE = ' + str(math.sqrt(mean_squared_error(y_val, y_pred))))"
   ]
  },
  {
   "cell_type": "code",
   "execution_count": 8,
   "metadata": {},
   "outputs": [
    {
     "name": "stdout",
     "output_type": "stream",
     "text": [
      "(317, 10)\n",
      "(317,)\n"
     ]
    }
   ],
   "source": [
    "import numpy\n",
    "x_train_new = numpy.concatenate((x_train, x_val), axis=0)\n",
    "y_train_new = numpy.concatenate((y_train, y_val), axis=0)\n",
    "\n",
    "print(x_train_new.shape)\n",
    "print(y_train_new.shape)"
   ]
  },
  {
   "cell_type": "code",
   "execution_count": 9,
   "metadata": {},
   "outputs": [
    {
     "name": "stdout",
     "output_type": "stream",
     "text": [
      "Lambda = 0; RMSE = 53.449720824949345\n"
     ]
    }
   ],
   "source": [
    "regression_regr_new = linear_model.Ridge(alpha= 0)\n",
    "regression_regr_new.fit(x_train_new, y_train_new)\n",
    "y_pred_new = regression_regr_new.predict(x_test)\n",
    "print('Lambda = ' +str(0) + '; RMSE = ' + str(math.sqrt(mean_squared_error(y_test, y_pred_new))))\n"
   ]
  }
 ],
 "metadata": {
  "kernelspec": {
   "display_name": "Python 3",
   "language": "python",
   "name": "python3"
  },
  "language_info": {
   "codemirror_mode": {
    "name": "ipython",
    "version": 3
   },
   "file_extension": ".py",
   "mimetype": "text/x-python",
   "name": "python",
   "nbconvert_exporter": "python",
   "pygments_lexer": "ipython3",
   "version": "3.12.2"
  }
 },
 "nbformat": 4,
 "nbformat_minor": 2
}
